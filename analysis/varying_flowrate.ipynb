{
  "nbformat": 4,
  "nbformat_minor": 0,
  "metadata": {
    "kernelspec": {
      "name": "python3",
      "display_name": "Python 3"
    },
    "colab": {
      "name": "Copy of varying_flowrate.ipynb",
      "provenance": [],
      "toc_visible": true,
      "include_colab_link": true
    }
  },
  "cells": [
    {
      "cell_type": "markdown",
      "metadata": {
        "id": "view-in-github",
        "colab_type": "text"
      },
      "source": [
        "<a href=\"https://colab.research.google.com/github/sbooeshaghi/colosseum/blob/master/analysis/varying_flowrate.ipynb\" target=\"_parent\"><img src=\"https://colab.research.google.com/assets/colab-badge.svg\" alt=\"Open In Colab\"/></a>"
      ]
    },
    {
      "cell_type": "code",
      "metadata": {
        "id": "AhV8FHM4C_cF",
        "colab": {
          "base_uri": "https://localhost:8080/"
        },
        "outputId": "57fae0cf-0b6b-41b6-ba06-cbc365f9cc2d"
      },
      "source": [
        "!date"
      ],
      "execution_count": 2,
      "outputs": [
        {
          "output_type": "stream",
          "text": [
            "Tue Jan 26 19:11:50 UTC 2021\n"
          ],
          "name": "stdout"
        }
      ]
    },
    {
      "cell_type": "code",
      "metadata": {
        "id": "urEzAzJ8DBYd",
        "colab": {
          "base_uri": "https://localhost:8080/"
        },
        "outputId": "30103ecd-c798-44df-b61d-70fea3818221"
      },
      "source": [
        "!git clone https://github.com/sbooeshaghi/colosseum.git"
      ],
      "execution_count": 3,
      "outputs": [
        {
          "output_type": "stream",
          "text": [
            "Cloning into 'colosseum'...\n",
            "remote: Enumerating objects: 17, done.\u001b[K\n",
            "remote: Counting objects: 100% (17/17), done.\u001b[K\n",
            "remote: Compressing objects: 100% (15/15), done.\u001b[K\n",
            "remote: Total 541 (delta 5), reused 10 (delta 2), pack-reused 524\u001b[K\n",
            "Receiving objects: 100% (541/541), 11.62 MiB | 9.60 MiB/s, done.\n",
            "Resolving deltas: 100% (286/286), done.\n"
          ],
          "name": "stdout"
        }
      ]
    },
    {
      "cell_type": "markdown",
      "metadata": {
        "id": "MWkYtaa6C_cR"
      },
      "source": [
        "# Varying flowrate"
      ]
    },
    {
      "cell_type": "code",
      "metadata": {
        "id": "YEIpn64rC_cS"
      },
      "source": [
        "import pandas as pd\n",
        "import matplotlib.pyplot as plt\n",
        "import numpy as np\n",
        "from scipy import stats\n",
        "import matplotlib.patches as mpatches\n",
        "import math\n",
        "from matplotlib.ticker import MaxNLocator\n",
        "import matplotlib.ticker as mtick\n",
        "\n",
        "\n",
        "plt.rcParams.update({'font.size': 20})\n",
        "%config InlineBackend.figure_format = 'retina'"
      ],
      "execution_count": 4,
      "outputs": []
    },
    {
      "cell_type": "code",
      "metadata": {
        "id": "N2k-DbUNC_cS"
      },
      "source": [
        "df = pd.read_csv(\"/content/colosseum/data/experiment_1.csv\")\n",
        "df = df.loc[:, ~df.columns.str.contains('^Unnamed')]\n",
        "\n",
        "columns = {\"Tube Number\": \"tube_number\",\n",
        "           \"Flow rate (uL/s)\": \"flowrate\",\n",
        "           \"Before (g)\":\t\"empty_weight\",\n",
        "           \"After (g)\": \"total_weight\",\n",
        "           \"Difference (g)\":\t\"fluid_vol\",\n",
        "           \"Percent error from 1 (%)\": \"error\"}\n",
        "\n",
        "df = df.rename(columns=columns)\n",
        "df[\"expected_vol\"] = 1.000"
      ],
      "execution_count": 5,
      "outputs": []
    },
    {
      "cell_type": "code",
      "metadata": {
        "id": "ElX3sK7EFGyp",
        "colab": {
          "base_uri": "https://localhost:8080/",
          "height": 407
        },
        "outputId": "7bce3861-05ea-4549-bd50-7bf38af02860"
      },
      "source": [
        "df"
      ],
      "execution_count": 6,
      "outputs": [
        {
          "output_type": "execute_result",
          "data": {
            "text/html": [
              "<div>\n",
              "<style scoped>\n",
              "    .dataframe tbody tr th:only-of-type {\n",
              "        vertical-align: middle;\n",
              "    }\n",
              "\n",
              "    .dataframe tbody tr th {\n",
              "        vertical-align: top;\n",
              "    }\n",
              "\n",
              "    .dataframe thead th {\n",
              "        text-align: right;\n",
              "    }\n",
              "</style>\n",
              "<table border=\"1\" class=\"dataframe\">\n",
              "  <thead>\n",
              "    <tr style=\"text-align: right;\">\n",
              "      <th></th>\n",
              "      <th>flowrate</th>\n",
              "      <th>tube_number</th>\n",
              "      <th>empty_weight</th>\n",
              "      <th>total_weight</th>\n",
              "      <th>fluid_vol</th>\n",
              "      <th>error</th>\n",
              "      <th>expected_vol</th>\n",
              "    </tr>\n",
              "  </thead>\n",
              "  <tbody>\n",
              "    <tr>\n",
              "      <th>0</th>\n",
              "      <td>6.25</td>\n",
              "      <td>1</td>\n",
              "      <td>1.066</td>\n",
              "      <td>2.063</td>\n",
              "      <td>0.997</td>\n",
              "      <td>-0.3</td>\n",
              "      <td>1.0</td>\n",
              "    </tr>\n",
              "    <tr>\n",
              "      <th>1</th>\n",
              "      <td>6.25</td>\n",
              "      <td>2</td>\n",
              "      <td>1.068</td>\n",
              "      <td>2.027</td>\n",
              "      <td>0.959</td>\n",
              "      <td>-4.1</td>\n",
              "      <td>1.0</td>\n",
              "    </tr>\n",
              "    <tr>\n",
              "      <th>2</th>\n",
              "      <td>6.25</td>\n",
              "      <td>3</td>\n",
              "      <td>1.068</td>\n",
              "      <td>2.027</td>\n",
              "      <td>0.959</td>\n",
              "      <td>-4.1</td>\n",
              "      <td>1.0</td>\n",
              "    </tr>\n",
              "    <tr>\n",
              "      <th>3</th>\n",
              "      <td>6.25</td>\n",
              "      <td>4</td>\n",
              "      <td>1.068</td>\n",
              "      <td>2.079</td>\n",
              "      <td>1.011</td>\n",
              "      <td>1.1</td>\n",
              "      <td>1.0</td>\n",
              "    </tr>\n",
              "    <tr>\n",
              "      <th>4</th>\n",
              "      <td>6.25</td>\n",
              "      <td>5</td>\n",
              "      <td>1.068</td>\n",
              "      <td>2.053</td>\n",
              "      <td>0.985</td>\n",
              "      <td>-1.5</td>\n",
              "      <td>1.0</td>\n",
              "    </tr>\n",
              "    <tr>\n",
              "      <th>...</th>\n",
              "      <td>...</td>\n",
              "      <td>...</td>\n",
              "      <td>...</td>\n",
              "      <td>...</td>\n",
              "      <td>...</td>\n",
              "      <td>...</td>\n",
              "      <td>...</td>\n",
              "    </tr>\n",
              "    <tr>\n",
              "      <th>175</th>\n",
              "      <td>12.50</td>\n",
              "      <td>26</td>\n",
              "      <td>1.055</td>\n",
              "      <td>2.056</td>\n",
              "      <td>1.001</td>\n",
              "      <td>0.1</td>\n",
              "      <td>1.0</td>\n",
              "    </tr>\n",
              "    <tr>\n",
              "      <th>176</th>\n",
              "      <td>12.50</td>\n",
              "      <td>27</td>\n",
              "      <td>1.067</td>\n",
              "      <td>2.028</td>\n",
              "      <td>0.961</td>\n",
              "      <td>-3.9</td>\n",
              "      <td>1.0</td>\n",
              "    </tr>\n",
              "    <tr>\n",
              "      <th>177</th>\n",
              "      <td>12.50</td>\n",
              "      <td>28</td>\n",
              "      <td>1.066</td>\n",
              "      <td>2.059</td>\n",
              "      <td>0.993</td>\n",
              "      <td>-0.7</td>\n",
              "      <td>1.0</td>\n",
              "    </tr>\n",
              "    <tr>\n",
              "      <th>178</th>\n",
              "      <td>12.50</td>\n",
              "      <td>29</td>\n",
              "      <td>1.064</td>\n",
              "      <td>2.042</td>\n",
              "      <td>0.978</td>\n",
              "      <td>-2.2</td>\n",
              "      <td>1.0</td>\n",
              "    </tr>\n",
              "    <tr>\n",
              "      <th>179</th>\n",
              "      <td>12.50</td>\n",
              "      <td>30</td>\n",
              "      <td>1.054</td>\n",
              "      <td>2.003</td>\n",
              "      <td>0.949</td>\n",
              "      <td>-5.1</td>\n",
              "      <td>1.0</td>\n",
              "    </tr>\n",
              "  </tbody>\n",
              "</table>\n",
              "<p>180 rows × 7 columns</p>\n",
              "</div>"
            ],
            "text/plain": [
              "     flowrate  tube_number  empty_weight  ...  fluid_vol  error  expected_vol\n",
              "0        6.25            1         1.066  ...      0.997   -0.3           1.0\n",
              "1        6.25            2         1.068  ...      0.959   -4.1           1.0\n",
              "2        6.25            3         1.068  ...      0.959   -4.1           1.0\n",
              "3        6.25            4         1.068  ...      1.011    1.1           1.0\n",
              "4        6.25            5         1.068  ...      0.985   -1.5           1.0\n",
              "..        ...          ...           ...  ...        ...    ...           ...\n",
              "175     12.50           26         1.055  ...      1.001    0.1           1.0\n",
              "176     12.50           27         1.067  ...      0.961   -3.9           1.0\n",
              "177     12.50           28         1.066  ...      0.993   -0.7           1.0\n",
              "178     12.50           29         1.064  ...      0.978   -2.2           1.0\n",
              "179     12.50           30         1.054  ...      0.949   -5.1           1.0\n",
              "\n",
              "[180 rows x 7 columns]"
            ]
          },
          "metadata": {
            "tags": []
          },
          "execution_count": 6
        }
      ]
    },
    {
      "cell_type": "code",
      "metadata": {
        "id": "BXW8IL-LCOiQ"
      },
      "source": [
        "obs = df.groupby(\"flowrate\")[\"fluid_vol\"].apply(np.array)\n",
        "exp = [1.000, 1.000, 1.000, 1.000, 1.000, 1.000]\n",
        "conditions = np.unique(df[\"flowrate\"].values)"
      ],
      "execution_count": 7,
      "outputs": []
    },
    {
      "cell_type": "code",
      "metadata": {
        "id": "9rFcIJJgE4FE",
        "colab": {
          "base_uri": "https://localhost:8080/"
        },
        "outputId": "19232bf6-40fc-4f1b-f7b4-e694cc4e0359"
      },
      "source": [
        "obs"
      ],
      "execution_count": 8,
      "outputs": [
        {
          "output_type": "execute_result",
          "data": {
            "text/plain": [
              "flowrate\n",
              "6.25      [0.997, 0.9590000000000001, 0.9590000000000001...\n",
              "12.50     [0.996, 0.941, 1.004, 1.021, 0.97, 0.996, 1.02...\n",
              "25.00     [0.9440000000000001, 0.9840000000000001, 0.954...\n",
              "50.00     [0.973, 0.951, 0.941, 0.995, 0.965, 1.04, 1.06...\n",
              "100.00    [0.978, 0.993, 0.9840000000000001, 1.004, 0.97...\n",
              "200.00    [0.894, 0.961, 0.968, 0.966, 1.003, 1.013, 0.9...\n",
              "Name: fluid_vol, dtype: object"
            ]
          },
          "metadata": {
            "tags": []
          },
          "execution_count": 8
        }
      ]
    },
    {
      "cell_type": "code",
      "metadata": {
        "id": "IFk0BcKIEFmB",
        "colab": {
          "base_uri": "https://localhost:8080/"
        },
        "outputId": "bf4ca8c7-55d6-48fe-d346-0dfd1655adb2"
      },
      "source": [
        "exp"
      ],
      "execution_count": 9,
      "outputs": [
        {
          "output_type": "execute_result",
          "data": {
            "text/plain": [
              "[1.0, 1.0, 1.0, 1.0, 1.0, 1.0]"
            ]
          },
          "metadata": {
            "tags": []
          },
          "execution_count": 9
        }
      ]
    },
    {
      "cell_type": "code",
      "metadata": {
        "id": "i-8ON79fEQCc"
      },
      "source": [
        "mean = df.groupby(\"flowrate\")[\"fluid_vol\"].agg(np.mean)\n",
        "stdev = df.groupby(\"flowrate\")[\"fluid_vol\"].agg(np.std)"
      ],
      "execution_count": 10,
      "outputs": []
    },
    {
      "cell_type": "code",
      "metadata": {
        "id": "eg4tCeLDETxr",
        "colab": {
          "base_uri": "https://localhost:8080/"
        },
        "outputId": "79029564-4367-4d04-8b78-0e07036408bf"
      },
      "source": [
        "mean"
      ],
      "execution_count": 11,
      "outputs": [
        {
          "output_type": "execute_result",
          "data": {
            "text/plain": [
              "flowrate\n",
              "6.25      0.986633\n",
              "12.50     0.987800\n",
              "25.00     0.987567\n",
              "50.00     0.993167\n",
              "100.00    0.993967\n",
              "200.00    0.995900\n",
              "Name: fluid_vol, dtype: float64"
            ]
          },
          "metadata": {
            "tags": []
          },
          "execution_count": 11
        }
      ]
    },
    {
      "cell_type": "code",
      "metadata": {
        "id": "Jiog8VDMEi7M",
        "colab": {
          "base_uri": "https://localhost:8080/"
        },
        "outputId": "1380545d-30a3-43a2-af2a-2c16f08c0ef3"
      },
      "source": [
        "stdev"
      ],
      "execution_count": 12,
      "outputs": [
        {
          "output_type": "execute_result",
          "data": {
            "text/plain": [
              "flowrate\n",
              "6.25      0.019676\n",
              "12.50     0.023817\n",
              "25.00     0.022632\n",
              "50.00     0.028836\n",
              "100.00    0.023986\n",
              "200.00    0.027037\n",
              "Name: fluid_vol, dtype: float64"
            ]
          },
          "metadata": {
            "tags": []
          },
          "execution_count": 12
        }
      ]
    },
    {
      "cell_type": "code",
      "metadata": {
        "id": "PUxANTsdA-dv"
      },
      "source": [
        "def violinplot(data, ax, **kwd): \n",
        "    xticklabels = kwd.get(\"xticklabels\", [])\n",
        "    xticks = kwd.get(\"xticks\", [])\n",
        "    selected = kwd.get(\"selected\", None)\n",
        "    color = kwd.get(\"color\", \"lightgrey\")\n",
        "    \n",
        "    if  len(xticks)==0: xticks = np.arange(len(data))+1;\n",
        "    if  len(xticklabels)==0: xticklabels = np.arange(len(data))+1;\n",
        "    assert(len(xticks) == len(xticklabels))\n",
        "        \n",
        "    violins = ax.violinplot(data, positions=xticks, showmeans=False, showmedians=False, showextrema=False, widths=0.25)\n",
        "    \n",
        "    for vidx, v in enumerate(violins['bodies']):\n",
        "        v.set_facecolor(color)\n",
        "        v.set_edgecolor('black')\n",
        "        v.set_alpha(1)\n",
        "        if selected == vidx:\n",
        "            v.set_facecolor(\"#D43F3A\")\n",
        "\n",
        "            \n",
        "    \n",
        "    for didx, d in enumerate(data):\n",
        "        x = xticks[didx]\n",
        "        xx = np.random.normal(x, 0.02, size=len(d))\n",
        "        \n",
        "        # actual points\n",
        "        ax.scatter(xx, d, s = 5, color=\"white\", edgecolor=\"black\", linewidth=1)\n",
        "        \n",
        "        # mean and error bars\n",
        "        mean = np.mean(d)\n",
        "        stdev = np.sqrt(np.var(d))\n",
        "        ax.scatter(x, mean, color=\"lightgrey\", edgecolor=\"black\", linewidth=1, zorder=10)    \n",
        "        ax.vlines(x, mean - stdev, mean+stdev, color='black', linestyle='-', lw=2, zorder=9)\n",
        "    \n",
        "    return ax"
      ],
      "execution_count": 37,
      "outputs": []
    },
    {
      "cell_type": "code",
      "metadata": {
        "id": "Ixc1KXrcEx5W"
      },
      "source": [
        "err = (obs-exp)"
      ],
      "execution_count": 22,
      "outputs": []
    },
    {
      "cell_type": "code",
      "metadata": {
        "id": "POUO4vIdI8PF",
        "colab": {
          "base_uri": "https://localhost:8080/"
        },
        "outputId": "0bd5055d-7012-4ae5-f30e-4fd45b3e8641"
      },
      "source": [
        "err"
      ],
      "execution_count": 23,
      "outputs": [
        {
          "output_type": "execute_result",
          "data": {
            "text/plain": [
              "flowrate\n",
              "6.25      [-0.0030000000000000027, -0.040999999999999925...\n",
              "12.50     [-0.0040000000000000036, -0.05900000000000005,...\n",
              "25.00     [-0.05599999999999994, -0.015999999999999903, ...\n",
              "50.00     [-0.027000000000000024, -0.049000000000000044,...\n",
              "100.00    [-0.02200000000000002, -0.007000000000000006, ...\n",
              "200.00    [-0.10599999999999998, -0.039000000000000035, ...\n",
              "Name: fluid_vol, dtype: object"
            ]
          },
          "metadata": {
            "tags": []
          },
          "execution_count": 23
        }
      ]
    },
    {
      "cell_type": "code",
      "metadata": {
        "id": "PSkCcM5UJB4C",
        "colab": {
          "base_uri": "https://localhost:8080/"
        },
        "outputId": "0723add2-e5a4-4afa-89ab-e9f215692fe9"
      },
      "source": [
        "err/exp*100"
      ],
      "execution_count": 24,
      "outputs": [
        {
          "output_type": "execute_result",
          "data": {
            "text/plain": [
              "flowrate\n",
              "6.25      [-0.30000000000000027, -4.0999999999999925, -4...\n",
              "12.50     [-0.40000000000000036, -5.900000000000006, 0.4...\n",
              "25.00     [-5.599999999999994, -1.5999999999999903, -4.5...\n",
              "50.00     [-2.7000000000000024, -4.900000000000004, -5.9...\n",
              "100.00    [-2.200000000000002, -0.7000000000000006, -1.5...\n",
              "200.00    [-10.599999999999998, -3.9000000000000035, -3....\n",
              "Name: fluid_vol, dtype: object"
            ]
          },
          "metadata": {
            "tags": []
          },
          "execution_count": 24
        }
      ]
    },
    {
      "cell_type": "code",
      "metadata": {
        "id": "2HuwNGCHNvW8",
        "outputId": "e71d4eae-6c03-46ab-c370-026aaa39a469",
        "colab": {
          "base_uri": "https://localhost:8080/"
        }
      },
      "source": [
        "conditions"
      ],
      "execution_count": 25,
      "outputs": [
        {
          "output_type": "execute_result",
          "data": {
            "text/plain": [
              "array([  6.25,  12.5 ,  25.  ,  50.  , 100.  , 200.  ])"
            ]
          },
          "metadata": {
            "tags": []
          },
          "execution_count": 25
        }
      ]
    },
    {
      "cell_type": "code",
      "metadata": {
        "id": "0gSfT4YWAW7t",
        "colab": {
          "base_uri": "https://localhost:8080/",
          "height": 463
        },
        "outputId": "c76324a6-a687-4d91-cf44-31ba222ba985"
      },
      "source": [
        "fig, ax = plt.subplots(figsize=(7,7))\n",
        "\n",
        "errors = (err/exp*100).values\n",
        "violinplot(errors, ax, xticks = np.log10(conditions))\n",
        "\n",
        "ax.set(**{\n",
        "    \"xlabel\": \"Flow rate [µL/s]\",\n",
        "    \"ylabel\": \"Error %\",\n",
        "    \"ylim\": (-12, 12),\n",
        "    \"xticklabels\": [f\"$10^{{{i}}}$\" for i in ax.get_xticks()]\n",
        "})\n",
        "\n",
        "\n",
        "fig.savefig(\"fraction_flowrate_error.png\", bbox_inches='tight', dpi=300)\n",
        "\n",
        "fig.show()"
      ],
      "execution_count": 42,
      "outputs": [
        {
          "output_type": "display_data",
          "data": {
            "image/png": "[encoded data removed]",
            "text/plain": [
              "<Figure size 504x504 with 1 Axes>"
            ]
          },
          "metadata": {
            "tags": [],
            "image/png": {
              "width": 499,
              "height": 446
            },
            "needs_background": "light"
          }
        }
      ]
    },
    {
      "cell_type": "code",
      "metadata": {
        "id": "V3DG7X66AXtW"
      },
      "source": [
        "import statsmodels.api as sm\n",
        "from statsmodels.stats.multitest import multipletests"
      ],
      "execution_count": 58,
      "outputs": []
    },
    {
      "cell_type": "code",
      "metadata": {
        "id": "JEueAMTnAvDQ"
      },
      "source": [
        "lens = obs.apply(lambda x: len(x)).values\n",
        "X = np.repeat(obs.index.values, lens)\n",
        "XX = sm.add_constant(X)\n",
        "\n",
        "Y = np.concatenate(obs.values)"
      ],
      "execution_count": 18,
      "outputs": []
    },
    {
      "cell_type": "code",
      "metadata": {
        "id": "DkrxkfQMAd2J"
      },
      "source": [
        "ols = sm.OLS(Y, XX).fit()"
      ],
      "execution_count": 19,
      "outputs": []
    },
    {
      "cell_type": "code",
      "metadata": {
        "colab": {
          "base_uri": "https://localhost:8080/"
        },
        "id": "YuTZW-UWBkgx",
        "outputId": "cb43ea64-7558-42e5-b7b6-f780e196c4b3"
      },
      "source": [
        "print(ols.summary())"
      ],
      "execution_count": 20,
      "outputs": [
        {
          "output_type": "stream",
          "text": [
            "                            OLS Regression Results                            \n",
            "==============================================================================\n",
            "Dep. Variable:                      y   R-squared:                       0.017\n",
            "Model:                            OLS   Adj. R-squared:                  0.012\n",
            "Method:                 Least Squares   F-statistic:                     3.104\n",
            "Date:                Tue, 26 Jan 2021   Prob (F-statistic):             0.0798\n",
            "Time:                        09:57:33   Log-Likelihood:                 414.76\n",
            "No. Observations:                 180   AIC:                            -825.5\n",
            "Df Residuals:                     178   BIC:                            -819.1\n",
            "Df Model:                           1                                         \n",
            "Covariance Type:            nonrobust                                         \n",
            "==============================================================================\n",
            "                 coef    std err          t      P>|t|      [0.025      0.975]\n",
            "------------------------------------------------------------------------------\n",
            "const          0.9877      0.003    391.614      0.000       0.983       0.993\n",
            "x1          4.714e-05   2.68e-05      1.762      0.080   -5.66e-06    9.99e-05\n",
            "==============================================================================\n",
            "Omnibus:                       12.644   Durbin-Watson:                   2.136\n",
            "Prob(Omnibus):                  0.002   Jarque-Bera (JB):               20.156\n",
            "Skew:                          -0.383   Prob(JB):                     4.20e-05\n",
            "Kurtosis:                       4.450   Cond. No.                         131.\n",
            "==============================================================================\n",
            "\n",
            "Warnings:\n",
            "[1] Standard Errors assume that the covariance matrix of the errors is correctly specified.\n"
          ],
          "name": "stdout"
        }
      ]
    },
    {
      "cell_type": "code",
      "metadata": {
        "id": "xJLe1bEIM-sF",
        "outputId": "feb7db2a-f1db-43e9-c128-e9b854945971",
        "colab": {
          "base_uri": "https://localhost:8080/"
        }
      },
      "source": [
        "conditions"
      ],
      "execution_count": 26,
      "outputs": [
        {
          "output_type": "execute_result",
          "data": {
            "text/plain": [
              "array([  6.25,  12.5 ,  25.  ,  50.  , 100.  , 200.  ])"
            ]
          },
          "metadata": {
            "tags": []
          },
          "execution_count": 26
        }
      ]
    },
    {
      "cell_type": "code",
      "metadata": {
        "id": "iTPluAqAC_cZ"
      },
      "source": [
        ""
      ],
      "execution_count": 21,
      "outputs": []
    }
  ]
}